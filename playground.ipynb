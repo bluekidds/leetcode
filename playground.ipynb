{
 "cells": [
  {
   "cell_type": "code",
   "execution_count": 28,
   "metadata": {
    "collapsed": true
   },
   "outputs": [],
   "source": [
    "import timeit\n",
    "import collections"
   ]
  },
  {
   "cell_type": "code",
   "execution_count": 7,
   "metadata": {
    "collapsed": false
   },
   "outputs": [
    {
     "data": {
      "text/plain": [
       "0.19202709197998047"
      ]
     },
     "execution_count": 7,
     "metadata": {},
     "output_type": "execute_result"
    }
   ],
   "source": [
    "strA = 'ABC'\n",
    "strB = 'BAB'\n",
    "\n",
    "s =\"sorted(['ABC','BAB'], key=str.upper)\"\n",
    "timeit.timeit(stmt=s, number=100000)"
   ]
  },
  {
   "cell_type": "code",
   "execution_count": null,
   "metadata": {
    "collapsed": true
   },
   "outputs": [],
   "source": [
    "def findItinerary(self, tickets):\n",
    "        \"\"\"\n",
    "        :type tickets: List[List[str]]\n",
    "        :rtype: List[str]\n",
    "        \"\"\"\n",
    "        tarList = [i[0] for i in tickets]\n",
    "        tarSet = set(tarList)\n",
    "\n",
    "        myDict = dict.fromkeys(tarSet)\n",
    "    \n",
    "        for dep, tar in tickets:\n",
    "            if myDict[dep] is None:\n",
    "                myDict[dep] = [tar]\n",
    "            else:\n",
    "                myDict[dep].append(tar)\n",
    "    \n",
    "        for key in myDict.keys():\n",
    "            myDict[key].sort(reverse=True)\n",
    "    \n",
    "        val = myDict['JFK'][-1]\n",
    "        rList = ['JFK',val]\n",
    "\n",
    "        myDict['JFK'].pop()\n",
    "        dst = val\n",
    "        if dst not in tarSet:\n",
    "            return rList\n",
    "    \n",
    "        while True:\n",
    "        \n",
    "            if not myDict[dst]:\n",
    "                break\n",
    "            val = myDict[dst][-1]\n",
    "            rList.append(myDict[dst][-1])\n",
    "            myDict[dst].pop()\n",
    "            dst = val \n",
    "            if dst not in tarSet:\n",
    "                break\n",
    "        \n",
    "        return rList"
   ]
  },
  {
   "cell_type": "code",
   "execution_count": 117,
   "metadata": {
    "collapsed": false
   },
   "outputs": [],
   "source": [
    "def brute_force(listAll):\n",
    "    \n",
    "    myDict = collections.defaultdict(list)\n",
    "    \n",
    "    for dep, tar in sorted(listAll)[::-1]:       \n",
    "        myDict[dep] += tar,\n",
    "    \n",
    "    rList,traversePath = [], ['JFK']\n",
    "    \n",
    "    while traversePath:\n",
    "        \n",
    "        #traverse the tree\n",
    "        while myDict[traversePath[-1]]:\n",
    "            traversePath.append(myDict[traversePath[-1]].pop())\n",
    "\n",
    "        rList.append(traversePath.pop())        \n",
    "    return rList[::-1]\n",
    "    \n",
    "        "
   ]
  },
  {
   "cell_type": "code",
   "execution_count": 12,
   "metadata": {
    "collapsed": true
   },
   "outputs": [],
   "source": [
    "tickets = [[\"MUC\", \"LHR\"], [\"JFK\", \"MUC\"], [\"SFO\", \"SJC\"], [\"LHR\", \"SFO\"]]\n"
   ]
  },
  {
   "cell_type": "code",
   "execution_count": 19,
   "metadata": {
    "collapsed": false
   },
   "outputs": [
    {
     "name": "stdout",
     "output_type": "stream",
     "text": [
      "{'JFK': ['MUC'], 'SFO': ['SJC'], 'LHR': ['SFO'], 'MUC': ['LHR']}\n",
      "['JFK', 'MUC', 'LHR', 'SFO', 'SJC']\n"
     ]
    }
   ],
   "source": [
    "rList = brute_force(tickets)\n",
    "print(rList)"
   ]
  },
  {
   "cell_type": "code",
   "execution_count": 105,
   "metadata": {
    "collapsed": true
   },
   "outputs": [],
   "source": [
    "tickets1 = [[\"JFK\",\"SFO\"],[\"JFK\",\"ATL\"],[\"SFO\",\"ATL\"],[\"ATL\",\"JFK\"],[\"ATL\",\"SFO\"]]"
   ]
  },
  {
   "cell_type": "code",
   "execution_count": 118,
   "metadata": {
    "collapsed": false
   },
   "outputs": [
    {
     "name": "stdout",
     "output_type": "stream",
     "text": [
      "['JFK', 'ATL', 'JFK', 'SFO', 'ATL', 'SFO']\n"
     ]
    }
   ],
   "source": [
    "rList = brute_force(tickets1)\n",
    "print(rList)"
   ]
  },
  {
   "cell_type": "code",
   "execution_count": 61,
   "metadata": {
    "collapsed": false
   },
   "outputs": [
    {
     "name": "stdout",
     "output_type": "stream",
     "text": [
      "defaultdict(<type 'list'>, {'JFK': ['NRT', 'KUL'], 'NRT': ['JFK']})\n",
      "['JFK', 'KUL']\n"
     ]
    }
   ],
   "source": [
    "tickets=[[\"JFK\",\"KUL\"],[\"JFK\",\"NRT\"],[\"NRT\",\"JFK\"]]\n",
    "rList = brute_force(tickets)\n",
    "print(rList)"
   ]
  },
  {
   "cell_type": "code",
   "execution_count": 98,
   "metadata": {
    "collapsed": false
   },
   "outputs": [],
   "source": [
    "def findItinerary(tickets):\n",
    "    targets = collections.defaultdict(list)\n",
    "    for a, b in sorted(tickets)[::-1]:        \n",
    "        targets[a] += b,\n",
    "\n",
    "    route, stack = [], ['JFK']\n",
    "    while stack:\n",
    "        while targets[stack[-1]]:            \n",
    "            stack += targets[stack[-1]].pop(),        \n",
    "        route += stack.pop(),\n",
    "    return route[::-1]"
   ]
  },
  {
   "cell_type": "code",
   "execution_count": 103,
   "metadata": {
    "collapsed": false
   },
   "outputs": [
    {
     "name": "stdout",
     "output_type": "stream",
     "text": [
      "['JFK']\n",
      "['JFK', 'KUL']\n",
      "----\n",
      "leave KUL\n",
      "printing route\n",
      "['KUL']\n",
      "++end printing route++\n",
      "['JFK']\n",
      "['JFK', 'NRT']\n",
      "----\n",
      "leave NRT\n",
      "printing route\n",
      "['KUL', 'NRT']\n",
      "++end printing route++\n",
      "leave JFK\n",
      "printing route\n",
      "['KUL', 'NRT', 'JFK']\n",
      "++end printing route++\n",
      "['JFK', 'NRT', 'KUL']\n"
     ]
    }
   ],
   "source": [
    "tickets2=[[\"JFK\",\"KUL\"],[\"JFK\",\"NRT\"]]\n",
    "rList = findItinerary(tickets2)\n",
    "print(rList)"
   ]
  }
 ],
 "metadata": {
  "anaconda-cloud": {},
  "kernelspec": {
   "display_name": "Python [conda env:research]",
   "language": "python",
   "name": "conda-env-research-py"
  },
  "language_info": {
   "codemirror_mode": {
    "name": "ipython",
    "version": 2
   },
   "file_extension": ".py",
   "mimetype": "text/x-python",
   "name": "python",
   "nbconvert_exporter": "python",
   "pygments_lexer": "ipython2",
   "version": "2.7.12"
  }
 },
 "nbformat": 4,
 "nbformat_minor": 1
}
